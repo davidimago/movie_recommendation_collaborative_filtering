{
  "cells": [
    {
      "cell_type": "markdown",
      "metadata": {
        "id": "view-in-github",
        "colab_type": "text"
      },
      "source": [
        "<a href=\"https://colab.research.google.com/github/davidimago/movie_recommendation_collaborative_filtering/blob/main/collaborative_filtering.ipynb\" target=\"_parent\"><img src=\"https://colab.research.google.com/assets/colab-badge.svg\" alt=\"Open In Colab\"/></a>"
      ]
    },
    {
      "cell_type": "markdown",
      "metadata": {
        "id": "oTcP2dcxZOcx"
      },
      "source": [
        "# Movie Reccomendation Engine with Collaborative Filtering\n",
        "\n"
      ]
    },
    {
      "cell_type": "markdown",
      "source": [
        "## Preprocess"
      ],
      "metadata": {
        "id": "lPRS6xjvA83_"
      }
    },
    {
      "cell_type": "code",
      "execution_count": null,
      "metadata": {
        "id": "C29FreYzLOco"
      },
      "outputs": [],
      "source": [
        "import pandas as pd\n",
        "import numpy as np\n",
        "\n",
        "# Load data\n",
        "user_ratings = pd.read_csv('dataset/user_ratings.csv')"
      ]
    },
    {
      "cell_type": "code",
      "execution_count": null,
      "metadata": {
        "colab": {
          "base_uri": "https://localhost:8080/"
        },
        "id": "h8wQheq4W4Cw",
        "outputId": "3ffd7cf6-933f-4956-ce26-136c5cb0f22e"
      },
      "outputs": [
        {
          "output_type": "stream",
          "name": "stdout",
          "text": [
            "<class 'pandas.core.frame.DataFrame'>\n",
            "RangeIndex: 100836 entries, 0 to 100835\n",
            "Data columns (total 6 columns):\n",
            " #   Column     Non-Null Count   Dtype  \n",
            "---  ------     --------------   -----  \n",
            " 0   userId     100836 non-null  object \n",
            " 1   movieId    100836 non-null  object \n",
            " 2   rating     100836 non-null  float64\n",
            " 3   timestamp  100836 non-null  int64  \n",
            " 4   title      100836 non-null  object \n",
            " 5   genres     100836 non-null  object \n",
            "dtypes: float64(1), int64(1), object(4)\n",
            "memory usage: 4.6+ MB\n",
            "None\n",
            "\n",
            "\n",
            "    userId  rating             title\n",
            "0  user001     4.0  Toy Story (1995)\n",
            "1  user005     4.0  Toy Story (1995)\n",
            "2  user007     4.5  Toy Story (1995)\n",
            "3  user015     2.5  Toy Story (1995)\n",
            "4  user017     4.5  Toy Story (1995)\n",
            "5  user018     3.5  Toy Story (1995)\n",
            "6  user019     4.0  Toy Story (1995)\n",
            "7  user021     3.5  Toy Story (1995)\n",
            "8  user027     3.0  Toy Story (1995)\n",
            "9  user031     5.0  Toy Story (1995)\n"
          ]
        }
      ],
      "source": [
        "# View the general info / structure of user_ratings\n",
        "print(user_ratings.info())\n",
        "\n",
        "print('\\n')\n",
        "\n",
        "# Select userId, rating, and title only\n",
        "user_ratings = user_ratings[['userId','rating','title']]\n",
        "\n",
        "# Inspect the first 10 rows of user_ratings\n",
        "print(user_ratings.head(10))"
      ]
    },
    {
      "cell_type": "code",
      "source": [
        "# For now, let's take only 25 most popular movies\n",
        "\n",
        "# Count number of viewer of each movie\n",
        "viewers = user_ratings['title'].value_counts(sort=True)\n",
        "print(viewers.head(25))\n",
        "\n",
        "print('\\n')\n",
        "\n",
        "# Take only top 25\n",
        "top25 = viewers.head(25).index.tolist()\n",
        "\n",
        "# Filter only for 25 movies\n",
        "user_ratings_25 = user_ratings[user_ratings['title'].isin(top25)]"
      ],
      "metadata": {
        "colab": {
          "base_uri": "https://localhost:8080/"
        },
        "id": "tDhWYZuEx2FA",
        "outputId": "cde2db76-d41d-4ddb-b807-c85406767019"
      },
      "execution_count": null,
      "outputs": [
        {
          "output_type": "stream",
          "name": "stdout",
          "text": [
            "Forrest Gump (1994)                                                               329\n",
            "Shawshank Redemption, The (1994)                                                  317\n",
            "Pulp Fiction (1994)                                                               307\n",
            "Silence of the Lambs, The (1991)                                                  279\n",
            "Matrix, The (1999)                                                                278\n",
            "Star Wars: Episode IV - A New Hope (1977)                                         251\n",
            "Jurassic Park (1993)                                                              238\n",
            "Braveheart (1995)                                                                 237\n",
            "Terminator 2: Judgment Day (1991)                                                 224\n",
            "Schindler's List (1993)                                                           220\n",
            "Fight Club (1999)                                                                 218\n",
            "Toy Story (1995)                                                                  215\n",
            "Star Wars: Episode V - The Empire Strikes Back (1980)                             211\n",
            "Usual Suspects, The (1995)                                                        204\n",
            "American Beauty (1999)                                                            204\n",
            "Seven (a.k.a. Se7en) (1995)                                                       203\n",
            "Independence Day (a.k.a. ID4) (1996)                                              202\n",
            "Apollo 13 (1995)                                                                  201\n",
            "Raiders of the Lost Ark (Indiana Jones and the Raiders of the Lost Ark) (1981)    200\n",
            "Lord of the Rings: The Fellowship of the Ring, The (2001)                         198\n",
            "Star Wars: Episode VI - Return of the Jedi (1983)                                 196\n",
            "Godfather, The (1972)                                                             192\n",
            "Fugitive, The (1993)                                                              190\n",
            "Batman (1989)                                                                     189\n",
            "Lord of the Rings: The Two Towers, The (2002)                                     188\n",
            "Name: title, dtype: int64\n",
            "\n",
            "\n"
          ]
        }
      ]
    },
    {
      "cell_type": "markdown",
      "source": [
        "### Dataset for User-Based Method"
      ],
      "metadata": {
        "id": "9DlfhbqM9phn"
      }
    },
    {
      "cell_type": "code",
      "execution_count": null,
      "metadata": {
        "colab": {
          "base_uri": "https://localhost:8080/"
        },
        "id": "2mPWqDZhaDDd",
        "outputId": "69303c65-9dbf-4776-ed30-c03afefffabd"
      },
      "outputs": [
        {
          "output_type": "stream",
          "name": "stdout",
          "text": [
            "title    American Beauty (1999)  ...  Usual Suspects, The (1995)\n",
            "userId                           ...                            \n",
            "user001                     5.0  ...                         5.0\n",
            "user002                     NaN  ...                         NaN\n",
            "user003                     NaN  ...                         NaN\n",
            "user004                     5.0  ...                         NaN\n",
            "user005                     NaN  ...                         4.0\n",
            "\n",
            "[5 rows x 25 columns]\n"
          ]
        }
      ],
      "source": [
        "# Transform the table in form user-based\n",
        "user_based = user_ratings_25.pivot_table(index='userId', columns='title', values='rating')\n",
        "\n",
        "# Inspect the transformed table\n",
        "print(user_based.head())"
      ]
    },
    {
      "cell_type": "code",
      "source": [
        "# Handling the missing rating\n",
        "\n",
        "# Get the average rating for each user\n",
        "avg_ratings_user = user_based.mean(axis=1)\n",
        "\n",
        "# Center each users ratings around 0\n",
        "user_based_centered = user_based.sub(avg_ratings_user, axis=0)\n",
        "\n",
        "# Assume that if rating is null, it means neutral\n",
        "# Fill in the missing data with 0s\n",
        "user_based_normed = user_based_centered.fillna(0)\n",
        "\n",
        "print(user_based_normed.head())"
      ],
      "metadata": {
        "colab": {
          "base_uri": "https://localhost:8080/"
        },
        "id": "YrNqU3vf1kT4",
        "outputId": "93d45713-19f0-48ee-c366-7bacfc03e17e"
      },
      "execution_count": null,
      "outputs": [
        {
          "output_type": "stream",
          "name": "stdout",
          "text": [
            "title    American Beauty (1999)  ...  Usual Suspects, The (1995)\n",
            "userId                           ...                            \n",
            "user001                0.526316  ...                    0.526316\n",
            "user002                0.000000  ...                    0.000000\n",
            "user003                0.000000  ...                    0.000000\n",
            "user004                1.600000  ...                    0.000000\n",
            "user005                0.000000  ...                    0.200000\n",
            "\n",
            "[5 rows x 25 columns]\n"
          ]
        }
      ]
    },
    {
      "cell_type": "markdown",
      "source": [
        "### Dataset for Item-Based Method"
      ],
      "metadata": {
        "id": "sS67bOmr-G1S"
      }
    },
    {
      "cell_type": "code",
      "source": [
        "# Transform the table in form item-based\n",
        "item_based = user_ratings_25.pivot_table(index='title', columns='userId', values='rating')\n",
        "\n",
        "# Inspect the transformed table\n",
        "print(item_based.head())"
      ],
      "metadata": {
        "colab": {
          "base_uri": "https://localhost:8080/"
        },
        "id": "9e3jNIxE773Q",
        "outputId": "bbdc523a-6374-45fb-c0c9-4371bb557d51"
      },
      "execution_count": null,
      "outputs": [
        {
          "output_type": "stream",
          "name": "stdout",
          "text": [
            "userId                  user001  user002  user003  ...  user608  user609  user610\n",
            "title                                              ...                           \n",
            "American Beauty (1999)      5.0      NaN      NaN  ...      5.0      NaN      3.5\n",
            "Apollo 13 (1995)            NaN      NaN      NaN  ...      2.0      3.0      NaN\n",
            "Batman (1989)               4.0      NaN      NaN  ...      3.0      3.0      4.5\n",
            "Braveheart (1995)           4.0      NaN      NaN  ...      4.0      3.0      4.5\n",
            "Fight Club (1999)           5.0      NaN      NaN  ...      5.0      NaN      5.0\n",
            "\n",
            "[5 rows x 572 columns]\n"
          ]
        }
      ]
    },
    {
      "cell_type": "code",
      "source": [
        "# Handling the missing rating\n",
        "\n",
        "# Get the average rating for each user\n",
        "avg_ratings_item = item_based.mean(axis=1)\n",
        "\n",
        "# Center each users ratings around 0\n",
        "item_based_centered = item_based.sub(avg_ratings_item, axis=0)\n",
        "\n",
        "# Assume if users dont give rating, means neutral\n",
        "# Fill in the missing data with 0s\n",
        "item_based_normed = item_based_centered.fillna(0)\n",
        "\n",
        "print(item_based_normed.head())"
      ],
      "metadata": {
        "colab": {
          "base_uri": "https://localhost:8080/"
        },
        "id": "eCWAZdKC8Tqd",
        "outputId": "fd4d0c18-501b-441f-ece0-bf4d0c43002b"
      },
      "execution_count": null,
      "outputs": [
        {
          "output_type": "stream",
          "name": "stdout",
          "text": [
            "userId                   user001  user002  ...   user609   user610\n",
            "title                                      ...                    \n",
            "American Beauty (1999)  0.943627      0.0  ...  0.000000 -0.556373\n",
            "Apollo 13 (1995)        0.000000      0.0  ... -0.845771  0.000000\n",
            "Batman (1989)           0.571429      0.0  ... -0.428571  1.071429\n",
            "Braveheart (1995)      -0.031646      0.0  ... -1.031646  0.468354\n",
            "Fight Club (1999)       0.727064      0.0  ...  0.000000  0.727064\n",
            "\n",
            "[5 rows x 572 columns]\n"
          ]
        }
      ]
    },
    {
      "cell_type": "markdown",
      "source": [
        "### Question Statement\n",
        "**We want to predict will user001 like Godfather?**"
      ],
      "metadata": {
        "id": "B9TRrYXeBFm4"
      }
    },
    {
      "cell_type": "code",
      "source": [
        "# Take a look about movies that user001 doesn't watch yet\n",
        "print(user_based.loc['user001'])\n",
        "\n",
        "# We want to predict will user001 like Godfather?"
      ],
      "metadata": {
        "colab": {
          "base_uri": "https://localhost:8080/"
        },
        "id": "kOsqW5ga-3Id",
        "outputId": "3d2c54ef-271a-40a5-da21-196388503c9a"
      },
      "execution_count": null,
      "outputs": [
        {
          "output_type": "stream",
          "name": "stdout",
          "text": [
            "title\n",
            "American Beauty (1999)                                                            5.0\n",
            "Apollo 13 (1995)                                                                  NaN\n",
            "Batman (1989)                                                                     4.0\n",
            "Braveheart (1995)                                                                 4.0\n",
            "Fight Club (1999)                                                                 5.0\n",
            "Forrest Gump (1994)                                                               4.0\n",
            "Fugitive, The (1993)                                                              5.0\n",
            "Godfather, The (1972)                                                             NaN\n",
            "Independence Day (a.k.a. ID4) (1996)                                              3.0\n",
            "Jurassic Park (1993)                                                              4.0\n",
            "Lord of the Rings: The Fellowship of the Ring, The (2001)                         NaN\n",
            "Lord of the Rings: The Two Towers, The (2002)                                     NaN\n",
            "Matrix, The (1999)                                                                5.0\n",
            "Pulp Fiction (1994)                                                               3.0\n",
            "Raiders of the Lost Ark (Indiana Jones and the Raiders of the Lost Ark) (1981)    5.0\n",
            "Schindler's List (1993)                                                           5.0\n",
            "Seven (a.k.a. Se7en) (1995)                                                       5.0\n",
            "Shawshank Redemption, The (1994)                                                  NaN\n",
            "Silence of the Lambs, The (1991)                                                  4.0\n",
            "Star Wars: Episode IV - A New Hope (1977)                                         5.0\n",
            "Star Wars: Episode V - The Empire Strikes Back (1980)                             5.0\n",
            "Star Wars: Episode VI - Return of the Jedi (1983)                                 5.0\n",
            "Terminator 2: Judgment Day (1991)                                                 NaN\n",
            "Toy Story (1995)                                                                  4.0\n",
            "Usual Suspects, The (1995)                                                        5.0\n",
            "Name: user001, dtype: float64\n"
          ]
        }
      ]
    },
    {
      "cell_type": "markdown",
      "source": [
        "## User-Based Method"
      ],
      "metadata": {
        "id": "t-UAL5I5BVkx"
      }
    },
    {
      "cell_type": "code",
      "source": [
        "# Drop the movie we are trying to predict\n",
        "user_based_x = user_based_normed.drop(\"Godfather, The (1972)\", axis=1)\n",
        "\n",
        "# Get the data for the user we are predicting for\n",
        "target_user_x = user_based_x.loc[[\"user001\"]]\n",
        "print('target_user_x : \\n', target_user_x)\n",
        "\n",
        "# Get the target data from orginal rating value dataset\n",
        "other_users_y = user_based[\"Godfather, The (1972)\"]\n",
        "\n",
        "# Get the data for only those that have seen the movie\n",
        "other_users_x = user_based_x[other_users_y.notnull()]\n",
        "\n",
        "# Remove those that have not seen the movie from the target\n",
        "other_users_y.dropna(inplace=True)\n",
        "\n",
        "print('other_users_x : \\n', other_users_x.head())\n",
        "print('other_users_y : \\n', other_users_y.head())"
      ],
      "metadata": {
        "colab": {
          "base_uri": "https://localhost:8080/"
        },
        "id": "I2I3pzyiBZky",
        "outputId": "eb0442f7-5ae0-456b-bcb6-1eafbfa99e58"
      },
      "execution_count": null,
      "outputs": [
        {
          "output_type": "stream",
          "name": "stdout",
          "text": [
            "target_user_x : \n",
            " title    American Beauty (1999)  ...  Usual Suspects, The (1995)\n",
            "userId                           ...                            \n",
            "user001                0.526316  ...                    0.526316\n",
            "\n",
            "[1 rows x 24 columns]\n",
            "other_users_x : \n",
            " title    American Beauty (1999)  ...  Usual Suspects, The (1995)\n",
            "userId                           ...                            \n",
            "user015               -0.111111  ...                    0.000000\n",
            "user016                0.093750  ...                    0.593750\n",
            "user017               -0.583333  ...                   -0.083333\n",
            "user018                0.000000  ...                    0.772727\n",
            "user021               -1.382353  ...                    0.000000\n",
            "\n",
            "[5 rows x 24 columns]\n",
            "other_users_y : \n",
            " userId\n",
            "user015    4.0\n",
            "user016    2.5\n",
            "user017    5.0\n",
            "user018    4.0\n",
            "user021    2.5\n",
            "Name: Godfather, The (1972), dtype: float64\n"
          ]
        }
      ]
    },
    {
      "cell_type": "code",
      "source": [
        "from sklearn.neighbors import KNeighborsRegressor\n",
        "\n",
        "# Instantiate the user KNN model\n",
        "user_knn = KNeighborsRegressor(metric='cosine', n_neighbors=8)\n",
        "\n",
        "# Fit the model and predict the target user\n",
        "user_knn.fit(other_users_x, other_users_y)\n",
        "target_user_pred = user_knn.predict(target_user_x)\n",
        "\n",
        "print('Predicted rating by user001 :', target_user_pred)"
      ],
      "metadata": {
        "colab": {
          "base_uri": "https://localhost:8080/"
        },
        "id": "ZkZuCqZ7FJFL",
        "outputId": "4a5b36e2-bbb9-409c-a6e6-bd9dec556955"
      },
      "execution_count": null,
      "outputs": [
        {
          "output_type": "stream",
          "name": "stdout",
          "text": [
            "Predicted rating by user001 : [4.75]\n"
          ]
        }
      ]
    },
    {
      "cell_type": "markdown",
      "source": [
        "## Item-Based Method"
      ],
      "metadata": {
        "id": "zVuB-FR0Gzw8"
      }
    },
    {
      "cell_type": "code",
      "source": [
        "# Drop the user we are trying to predict\n",
        "item_based_x = item_based_normed.drop(\"user001\", axis=1)\n",
        "\n",
        "# Get the data for the user we are predicting for\n",
        "target_item_x = item_based_x.loc[[\"Godfather, The (1972)\"]]\n",
        "print('target_item_x : \\n', target_item_x)\n",
        "\n",
        "# Get the target data from orginal rating value dataset\n",
        "other_item_y = item_based[\"user001\"]\n",
        "\n",
        "# Get the data for only movies that user001 have seen\n",
        "other_item_x = item_based_x[other_item_y.notnull()]\n",
        "\n",
        "# Remove those that have not seen the movie from the target\n",
        "other_item_y.dropna(inplace=True)\n",
        "\n",
        "print('other_users_x : \\n', other_item_x.head())\n",
        "print('other_users_y : \\n', other_item_y.head())"
      ],
      "metadata": {
        "colab": {
          "base_uri": "https://localhost:8080/"
        },
        "id": "20wOPVcrG3nP",
        "outputId": "58b07fd6-b2a0-46cb-d43a-c127d938a031"
      },
      "execution_count": null,
      "outputs": [
        {
          "output_type": "stream",
          "name": "stdout",
          "text": [
            "target_item_x : \n",
            " userId                 user002  user003  user004  ...   user608  user609   user610\n",
            "title                                             ...                             \n",
            "Godfather, The (1972)      0.0      0.0      0.0  ...  0.710938      0.0  0.710938\n",
            "\n",
            "[1 rows x 571 columns]\n",
            "other_users_x : \n",
            " userId                  user002  user003  ...   user609   user610\n",
            "title                                     ...                    \n",
            "American Beauty (1999)      0.0      0.0  ...  0.000000 -0.556373\n",
            "Batman (1989)               0.0      0.0  ... -0.428571  1.071429\n",
            "Braveheart (1995)           0.0      0.0  ... -1.031646  0.468354\n",
            "Fight Club (1999)           0.0      0.0  ...  0.000000  0.727064\n",
            "Forrest Gump (1994)         0.0      0.0  ... -0.164134 -1.164134\n",
            "\n",
            "[5 rows x 571 columns]\n",
            "other_users_y : \n",
            " title\n",
            "American Beauty (1999)    5.0\n",
            "Batman (1989)             4.0\n",
            "Braveheart (1995)         4.0\n",
            "Fight Club (1999)         5.0\n",
            "Forrest Gump (1994)       4.0\n",
            "Name: user001, dtype: float64\n"
          ]
        }
      ]
    },
    {
      "cell_type": "code",
      "source": [
        "# Instantiate the user KNN model\n",
        "item_knn = KNeighborsRegressor(metric='cosine', n_neighbors=8)\n",
        "\n",
        "# Fit the model and predict the target user\n",
        "item_knn.fit(other_item_x, other_item_y)\n",
        "target_item_pred = item_knn.predict(target_item_x)\n",
        "\n",
        "print('Predicted rating by user001 :', target_item_pred)"
      ],
      "metadata": {
        "colab": {
          "base_uri": "https://localhost:8080/"
        },
        "id": "xtw5Dx92JYyY",
        "outputId": "2160fcae-53d8-4dbc-a0fa-2204338d5e13"
      },
      "execution_count": null,
      "outputs": [
        {
          "output_type": "stream",
          "name": "stdout",
          "text": [
            "Predicted rating by user001 : [4.625]\n"
          ]
        }
      ]
    },
    {
      "cell_type": "markdown",
      "source": [
        "## Conclusion\n",
        "\n",
        "Predicted Rating (of Godfather movie) by user001 :\n",
        "*   User-Based Method : 4.75\n",
        "*   Item-Based Method : 4.625 \n",
        "\n",
        "\n"
      ],
      "metadata": {
        "id": "l2bXNER2K6sR"
      }
    }
  ],
  "metadata": {
    "colab": {
      "name": "collaborative_filtering.ipynb",
      "provenance": [],
      "collapsed_sections": [],
      "authorship_tag": "ABX9TyNphBoareIAU0NOZsgM02/S",
      "include_colab_link": true
    },
    "kernelspec": {
      "display_name": "Python 3",
      "name": "python3"
    },
    "language_info": {
      "name": "python"
    }
  },
  "nbformat": 4,
  "nbformat_minor": 0
}